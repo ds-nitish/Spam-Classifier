{
  "nbformat": 4,
  "nbformat_minor": 0,
  "metadata": {
    "colab": {
      "provenance": [],
      "gpuType": "T4"
    },
    "kernelspec": {
      "name": "python3",
      "display_name": "Python 3"
    },
    "language_info": {
      "name": "python"
    },
    "accelerator": "GPU",
    "gpuClass": "standard"
  },
  "cells": [
    {
      "cell_type": "markdown",
      "source": [
        "Importing Data From Kaggle"
      ],
      "metadata": {
        "id": "XjoeKcrC-yDq"
      }
    },
    {
      "cell_type": "code",
      "execution_count": 75,
      "metadata": {
        "id": "wJ9i-AFutTiA"
      },
      "outputs": [],
      "source": [
        "!mkdir -p ~/.kaggle\n",
        "!cp kaggle.json ~/.kaggle/"
      ]
    },
    {
      "cell_type": "code",
      "source": [
        "!kaggle datasets download -d team-ai/spam-text-message-classification"
      ],
      "metadata": {
        "colab": {
          "base_uri": "https://localhost:8080/"
        },
        "id": "kP33b-GKtfLl",
        "outputId": "e402152f-06d0-48d0-e4ff-a9f2b25de3a2"
      },
      "execution_count": 76,
      "outputs": [
        {
          "output_type": "stream",
          "name": "stdout",
          "text": [
            "Warning: Your Kaggle API key is readable by other users on this system! To fix this, you can run 'chmod 600 /root/.kaggle/kaggle.json'\n",
            "spam-text-message-classification.zip: Skipping, found more recently modified local copy (use --force to force download)\n"
          ]
        }
      ]
    },
    {
      "cell_type": "code",
      "source": [
        "import zipfile\n",
        "zip_ref = zipfile.ZipFile('/content/SPAM text message 20170820 - Data.csv','r')\n",
        "zip_ref.extractall('/content')\n",
        "zip_ref.close()"
      ],
      "metadata": {
        "id": "ORzIVVMLthUk"
      },
      "execution_count": 77,
      "outputs": []
    },
    {
      "cell_type": "code",
      "source": [
        "import pandas as pd\n",
        "df = pd.read_csv('/content/SPAM text message- Data.csv')"
      ],
      "metadata": {
        "id": "flojzx-ptkBl",
        "colab": {
          "base_uri": "https://localhost:8080/",
          "height": 341
        },
        "outputId": "7bd7047e-3c98-4fcd-8818-361e714a9299"
      },
      "execution_count": 78,
      "outputs": [
        {
          "output_type": "error",
          "ename": "FileNotFoundError",
          "evalue": "ignored",
          "traceback": [
            "\u001b[0;31m---------------------------------------------------------------------------\u001b[0m",
            "\u001b[0;31mFileNotFoundError\u001b[0m                         Traceback (most recent call last)",
            "\u001b[0;32m<ipython-input-78-03a093428748>\u001b[0m in \u001b[0;36m<cell line: 2>\u001b[0;34m()\u001b[0m\n\u001b[1;32m      1\u001b[0m \u001b[0;32mimport\u001b[0m \u001b[0mpandas\u001b[0m \u001b[0;32mas\u001b[0m \u001b[0mpd\u001b[0m\u001b[0;34m\u001b[0m\u001b[0;34m\u001b[0m\u001b[0m\n\u001b[0;32m----> 2\u001b[0;31m \u001b[0mdf\u001b[0m \u001b[0;34m=\u001b[0m \u001b[0mpd\u001b[0m\u001b[0;34m.\u001b[0m\u001b[0mread_csv\u001b[0m\u001b[0;34m(\u001b[0m\u001b[0;34m'/content/SPAM text message- Data.csv'\u001b[0m\u001b[0;34m)\u001b[0m\u001b[0;34m\u001b[0m\u001b[0;34m\u001b[0m\u001b[0m\n\u001b[0m",
            "\u001b[0;32m/usr/local/lib/python3.10/dist-packages/pandas/util/_decorators.py\u001b[0m in \u001b[0;36mwrapper\u001b[0;34m(*args, **kwargs)\u001b[0m\n\u001b[1;32m    209\u001b[0m                 \u001b[0;32melse\u001b[0m\u001b[0;34m:\u001b[0m\u001b[0;34m\u001b[0m\u001b[0;34m\u001b[0m\u001b[0m\n\u001b[1;32m    210\u001b[0m                     \u001b[0mkwargs\u001b[0m\u001b[0;34m[\u001b[0m\u001b[0mnew_arg_name\u001b[0m\u001b[0;34m]\u001b[0m \u001b[0;34m=\u001b[0m \u001b[0mnew_arg_value\u001b[0m\u001b[0;34m\u001b[0m\u001b[0;34m\u001b[0m\u001b[0m\n\u001b[0;32m--> 211\u001b[0;31m             \u001b[0;32mreturn\u001b[0m \u001b[0mfunc\u001b[0m\u001b[0;34m(\u001b[0m\u001b[0;34m*\u001b[0m\u001b[0margs\u001b[0m\u001b[0;34m,\u001b[0m \u001b[0;34m**\u001b[0m\u001b[0mkwargs\u001b[0m\u001b[0;34m)\u001b[0m\u001b[0;34m\u001b[0m\u001b[0;34m\u001b[0m\u001b[0m\n\u001b[0m\u001b[1;32m    212\u001b[0m \u001b[0;34m\u001b[0m\u001b[0m\n\u001b[1;32m    213\u001b[0m         \u001b[0;32mreturn\u001b[0m \u001b[0mcast\u001b[0m\u001b[0;34m(\u001b[0m\u001b[0mF\u001b[0m\u001b[0;34m,\u001b[0m \u001b[0mwrapper\u001b[0m\u001b[0;34m)\u001b[0m\u001b[0;34m\u001b[0m\u001b[0;34m\u001b[0m\u001b[0m\n",
            "\u001b[0;32m/usr/local/lib/python3.10/dist-packages/pandas/util/_decorators.py\u001b[0m in \u001b[0;36mwrapper\u001b[0;34m(*args, **kwargs)\u001b[0m\n\u001b[1;32m    329\u001b[0m                     \u001b[0mstacklevel\u001b[0m\u001b[0;34m=\u001b[0m\u001b[0mfind_stack_level\u001b[0m\u001b[0;34m(\u001b[0m\u001b[0;34m)\u001b[0m\u001b[0;34m,\u001b[0m\u001b[0;34m\u001b[0m\u001b[0;34m\u001b[0m\u001b[0m\n\u001b[1;32m    330\u001b[0m                 )\n\u001b[0;32m--> 331\u001b[0;31m             \u001b[0;32mreturn\u001b[0m \u001b[0mfunc\u001b[0m\u001b[0;34m(\u001b[0m\u001b[0;34m*\u001b[0m\u001b[0margs\u001b[0m\u001b[0;34m,\u001b[0m \u001b[0;34m**\u001b[0m\u001b[0mkwargs\u001b[0m\u001b[0;34m)\u001b[0m\u001b[0;34m\u001b[0m\u001b[0;34m\u001b[0m\u001b[0m\n\u001b[0m\u001b[1;32m    332\u001b[0m \u001b[0;34m\u001b[0m\u001b[0m\n\u001b[1;32m    333\u001b[0m         \u001b[0;31m# error: \"Callable[[VarArg(Any), KwArg(Any)], Any]\" has no\u001b[0m\u001b[0;34m\u001b[0m\u001b[0;34m\u001b[0m\u001b[0m\n",
            "\u001b[0;32m/usr/local/lib/python3.10/dist-packages/pandas/io/parsers/readers.py\u001b[0m in \u001b[0;36mread_csv\u001b[0;34m(filepath_or_buffer, sep, delimiter, header, names, index_col, usecols, squeeze, prefix, mangle_dupe_cols, dtype, engine, converters, true_values, false_values, skipinitialspace, skiprows, skipfooter, nrows, na_values, keep_default_na, na_filter, verbose, skip_blank_lines, parse_dates, infer_datetime_format, keep_date_col, date_parser, dayfirst, cache_dates, iterator, chunksize, compression, thousands, decimal, lineterminator, quotechar, quoting, doublequote, escapechar, comment, encoding, encoding_errors, dialect, error_bad_lines, warn_bad_lines, on_bad_lines, delim_whitespace, low_memory, memory_map, float_precision, storage_options)\u001b[0m\n\u001b[1;32m    948\u001b[0m     \u001b[0mkwds\u001b[0m\u001b[0;34m.\u001b[0m\u001b[0mupdate\u001b[0m\u001b[0;34m(\u001b[0m\u001b[0mkwds_defaults\u001b[0m\u001b[0;34m)\u001b[0m\u001b[0;34m\u001b[0m\u001b[0;34m\u001b[0m\u001b[0m\n\u001b[1;32m    949\u001b[0m \u001b[0;34m\u001b[0m\u001b[0m\n\u001b[0;32m--> 950\u001b[0;31m     \u001b[0;32mreturn\u001b[0m \u001b[0m_read\u001b[0m\u001b[0;34m(\u001b[0m\u001b[0mfilepath_or_buffer\u001b[0m\u001b[0;34m,\u001b[0m \u001b[0mkwds\u001b[0m\u001b[0;34m)\u001b[0m\u001b[0;34m\u001b[0m\u001b[0;34m\u001b[0m\u001b[0m\n\u001b[0m\u001b[1;32m    951\u001b[0m \u001b[0;34m\u001b[0m\u001b[0m\n\u001b[1;32m    952\u001b[0m \u001b[0;34m\u001b[0m\u001b[0m\n",
            "\u001b[0;32m/usr/local/lib/python3.10/dist-packages/pandas/io/parsers/readers.py\u001b[0m in \u001b[0;36m_read\u001b[0;34m(filepath_or_buffer, kwds)\u001b[0m\n\u001b[1;32m    603\u001b[0m \u001b[0;34m\u001b[0m\u001b[0m\n\u001b[1;32m    604\u001b[0m     \u001b[0;31m# Create the parser.\u001b[0m\u001b[0;34m\u001b[0m\u001b[0;34m\u001b[0m\u001b[0m\n\u001b[0;32m--> 605\u001b[0;31m     \u001b[0mparser\u001b[0m \u001b[0;34m=\u001b[0m \u001b[0mTextFileReader\u001b[0m\u001b[0;34m(\u001b[0m\u001b[0mfilepath_or_buffer\u001b[0m\u001b[0;34m,\u001b[0m \u001b[0;34m**\u001b[0m\u001b[0mkwds\u001b[0m\u001b[0;34m)\u001b[0m\u001b[0;34m\u001b[0m\u001b[0;34m\u001b[0m\u001b[0m\n\u001b[0m\u001b[1;32m    606\u001b[0m \u001b[0;34m\u001b[0m\u001b[0m\n\u001b[1;32m    607\u001b[0m     \u001b[0;32mif\u001b[0m \u001b[0mchunksize\u001b[0m \u001b[0;32mor\u001b[0m \u001b[0miterator\u001b[0m\u001b[0;34m:\u001b[0m\u001b[0;34m\u001b[0m\u001b[0;34m\u001b[0m\u001b[0m\n",
            "\u001b[0;32m/usr/local/lib/python3.10/dist-packages/pandas/io/parsers/readers.py\u001b[0m in \u001b[0;36m__init__\u001b[0;34m(self, f, engine, **kwds)\u001b[0m\n\u001b[1;32m   1440\u001b[0m \u001b[0;34m\u001b[0m\u001b[0m\n\u001b[1;32m   1441\u001b[0m         \u001b[0mself\u001b[0m\u001b[0;34m.\u001b[0m\u001b[0mhandles\u001b[0m\u001b[0;34m:\u001b[0m \u001b[0mIOHandles\u001b[0m \u001b[0;34m|\u001b[0m \u001b[0;32mNone\u001b[0m \u001b[0;34m=\u001b[0m \u001b[0;32mNone\u001b[0m\u001b[0;34m\u001b[0m\u001b[0;34m\u001b[0m\u001b[0m\n\u001b[0;32m-> 1442\u001b[0;31m         \u001b[0mself\u001b[0m\u001b[0;34m.\u001b[0m\u001b[0m_engine\u001b[0m \u001b[0;34m=\u001b[0m \u001b[0mself\u001b[0m\u001b[0;34m.\u001b[0m\u001b[0m_make_engine\u001b[0m\u001b[0;34m(\u001b[0m\u001b[0mf\u001b[0m\u001b[0;34m,\u001b[0m \u001b[0mself\u001b[0m\u001b[0;34m.\u001b[0m\u001b[0mengine\u001b[0m\u001b[0;34m)\u001b[0m\u001b[0;34m\u001b[0m\u001b[0;34m\u001b[0m\u001b[0m\n\u001b[0m\u001b[1;32m   1443\u001b[0m \u001b[0;34m\u001b[0m\u001b[0m\n\u001b[1;32m   1444\u001b[0m     \u001b[0;32mdef\u001b[0m \u001b[0mclose\u001b[0m\u001b[0;34m(\u001b[0m\u001b[0mself\u001b[0m\u001b[0;34m)\u001b[0m \u001b[0;34m->\u001b[0m \u001b[0;32mNone\u001b[0m\u001b[0;34m:\u001b[0m\u001b[0;34m\u001b[0m\u001b[0;34m\u001b[0m\u001b[0m\n",
            "\u001b[0;32m/usr/local/lib/python3.10/dist-packages/pandas/io/parsers/readers.py\u001b[0m in \u001b[0;36m_make_engine\u001b[0;34m(self, f, engine)\u001b[0m\n\u001b[1;32m   1733\u001b[0m                 \u001b[0;32mif\u001b[0m \u001b[0;34m\"b\"\u001b[0m \u001b[0;32mnot\u001b[0m \u001b[0;32min\u001b[0m \u001b[0mmode\u001b[0m\u001b[0;34m:\u001b[0m\u001b[0;34m\u001b[0m\u001b[0;34m\u001b[0m\u001b[0m\n\u001b[1;32m   1734\u001b[0m                     \u001b[0mmode\u001b[0m \u001b[0;34m+=\u001b[0m \u001b[0;34m\"b\"\u001b[0m\u001b[0;34m\u001b[0m\u001b[0;34m\u001b[0m\u001b[0m\n\u001b[0;32m-> 1735\u001b[0;31m             self.handles = get_handle(\n\u001b[0m\u001b[1;32m   1736\u001b[0m                 \u001b[0mf\u001b[0m\u001b[0;34m,\u001b[0m\u001b[0;34m\u001b[0m\u001b[0;34m\u001b[0m\u001b[0m\n\u001b[1;32m   1737\u001b[0m                 \u001b[0mmode\u001b[0m\u001b[0;34m,\u001b[0m\u001b[0;34m\u001b[0m\u001b[0;34m\u001b[0m\u001b[0m\n",
            "\u001b[0;32m/usr/local/lib/python3.10/dist-packages/pandas/io/common.py\u001b[0m in \u001b[0;36mget_handle\u001b[0;34m(path_or_buf, mode, encoding, compression, memory_map, is_text, errors, storage_options)\u001b[0m\n\u001b[1;32m    854\u001b[0m         \u001b[0;32mif\u001b[0m \u001b[0mioargs\u001b[0m\u001b[0;34m.\u001b[0m\u001b[0mencoding\u001b[0m \u001b[0;32mand\u001b[0m \u001b[0;34m\"b\"\u001b[0m \u001b[0;32mnot\u001b[0m \u001b[0;32min\u001b[0m \u001b[0mioargs\u001b[0m\u001b[0;34m.\u001b[0m\u001b[0mmode\u001b[0m\u001b[0;34m:\u001b[0m\u001b[0;34m\u001b[0m\u001b[0;34m\u001b[0m\u001b[0m\n\u001b[1;32m    855\u001b[0m             \u001b[0;31m# Encoding\u001b[0m\u001b[0;34m\u001b[0m\u001b[0;34m\u001b[0m\u001b[0m\n\u001b[0;32m--> 856\u001b[0;31m             handle = open(\n\u001b[0m\u001b[1;32m    857\u001b[0m                 \u001b[0mhandle\u001b[0m\u001b[0;34m,\u001b[0m\u001b[0;34m\u001b[0m\u001b[0;34m\u001b[0m\u001b[0m\n\u001b[1;32m    858\u001b[0m                 \u001b[0mioargs\u001b[0m\u001b[0;34m.\u001b[0m\u001b[0mmode\u001b[0m\u001b[0;34m,\u001b[0m\u001b[0;34m\u001b[0m\u001b[0;34m\u001b[0m\u001b[0m\n",
            "\u001b[0;31mFileNotFoundError\u001b[0m: [Errno 2] No such file or directory: '/content/SPAM text message- Data.csv'"
          ]
        }
      ]
    },
    {
      "cell_type": "code",
      "source": [
        "df.head()"
      ],
      "metadata": {
        "id": "_4T4TzQ5tmGE"
      },
      "execution_count": null,
      "outputs": []
    },
    {
      "cell_type": "code",
      "source": [
        "df['Message'][0]"
      ],
      "metadata": {
        "id": "eEKnKcZxtoEH"
      },
      "execution_count": null,
      "outputs": []
    },
    {
      "cell_type": "markdown",
      "source": [
        "**Text  Cleaning and Preprocessing**"
      ],
      "metadata": {
        "id": "OseAnIJ03lpq"
      }
    },
    {
      "cell_type": "code",
      "source": [
        "import re"
      ],
      "metadata": {
        "id": "Fe5uZXOatqof"
      },
      "execution_count": null,
      "outputs": []
    },
    {
      "cell_type": "code",
      "source": [
        "import nltk\n",
        "nltk.download('stopwords')\n",
        "nltk.download('wordnet')"
      ],
      "metadata": {
        "colab": {
          "base_uri": "https://localhost:8080/"
        },
        "id": "I7Vtiv2ett9_",
        "outputId": "f93e3db4-b588-4939-fd44-3f3eebb7fe4d"
      },
      "execution_count": 79,
      "outputs": [
        {
          "output_type": "stream",
          "name": "stderr",
          "text": [
            "[nltk_data] Downloading package stopwords to /root/nltk_data...\n",
            "[nltk_data]   Package stopwords is already up-to-date!\n",
            "[nltk_data] Downloading package wordnet to /root/nltk_data...\n",
            "[nltk_data]   Package wordnet is already up-to-date!\n"
          ]
        },
        {
          "output_type": "execute_result",
          "data": {
            "text/plain": [
              "True"
            ]
          },
          "metadata": {},
          "execution_count": 79
        }
      ]
    },
    {
      "cell_type": "code",
      "source": [
        "df['Message'].shape"
      ],
      "metadata": {
        "colab": {
          "base_uri": "https://localhost:8080/"
        },
        "id": "h-4G07QMuB4i",
        "outputId": "6aae0846-af65-4f4f-f3af-1fb0fb226dba"
      },
      "execution_count": 80,
      "outputs": [
        {
          "output_type": "execute_result",
          "data": {
            "text/plain": [
              "(5572,)"
            ]
          },
          "metadata": {},
          "execution_count": 80
        }
      ]
    },
    {
      "cell_type": "code",
      "source": [
        "df.isna().sum()"
      ],
      "metadata": {
        "colab": {
          "base_uri": "https://localhost:8080/"
        },
        "id": "XkrcR-8LuGtf",
        "outputId": "ae54396c-b593-46be-8c47-85a91e19d072"
      },
      "execution_count": 81,
      "outputs": [
        {
          "output_type": "execute_result",
          "data": {
            "text/plain": [
              "Category    0\n",
              "Message     0\n",
              "dtype: int64"
            ]
          },
          "metadata": {},
          "execution_count": 81
        }
      ]
    },
    {
      "cell_type": "code",
      "source": [
        "from nltk.stem import WordNetLemmatizer\n",
        "from nltk.corpus import stopwords\n",
        "lemmatizer= WordNetLemmatizer()"
      ],
      "metadata": {
        "id": "Qt0TgoA1ulMo"
      },
      "execution_count": 82,
      "outputs": []
    },
    {
      "cell_type": "code",
      "source": [
        "corpus =[]\n",
        "for i in range(len(df['Message'])):\n",
        "  data = re.sub('[^a-zA-Z\\s0-9]','',df['Message'][i])\n",
        "  data = data.lower()\n",
        "  data = data.split()\n",
        "  data = [lemmatizer.lemmatize(words) for words in data if words not in (stopwords.words('english'))]\n",
        "  data = ' '.join(data)\n",
        "  corpus.append(data)"
      ],
      "metadata": {
        "id": "sMSOzfNtt4F2"
      },
      "execution_count": 83,
      "outputs": []
    },
    {
      "cell_type": "code",
      "source": [
        "corpus[0]"
      ],
      "metadata": {
        "colab": {
          "base_uri": "https://localhost:8080/",
          "height": 36
        },
        "id": "fxVMu6rjviod",
        "outputId": "128dd0fc-b927-421b-fc7e-a59f6bf4a06b"
      },
      "execution_count": 84,
      "outputs": [
        {
          "output_type": "execute_result",
          "data": {
            "text/plain": [
              "'go jurong point crazy available bugis n great world la e buffet cine got amore wat'"
            ],
            "application/vnd.google.colaboratory.intrinsic+json": {
              "type": "string"
            }
          },
          "metadata": {},
          "execution_count": 84
        }
      ]
    },
    {
      "cell_type": "markdown",
      "source": [
        "Vectorizing text data for feeding it to model\n"
      ],
      "metadata": {
        "id": "AgUIJGsA3JUP"
      }
    },
    {
      "cell_type": "code",
      "source": [
        "from sklearn.feature_extraction.text import CountVectorizer\n",
        "cv  = CountVectorizer(max_features = 250)"
      ],
      "metadata": {
        "id": "ciomAiqavmfM"
      },
      "execution_count": 85,
      "outputs": []
    },
    {
      "cell_type": "code",
      "source": [
        "x = cv.fit_transform(corpus).toarray()"
      ],
      "metadata": {
        "id": "W_QnybUGv6aH"
      },
      "execution_count": 86,
      "outputs": []
    },
    {
      "cell_type": "code",
      "source": [
        "x"
      ],
      "metadata": {
        "colab": {
          "base_uri": "https://localhost:8080/"
        },
        "id": "qNGFzq3bwDjM",
        "outputId": "2082ae0a-b8e9-48ad-975b-5d58d0674c21"
      },
      "execution_count": 87,
      "outputs": [
        {
          "output_type": "execute_result",
          "data": {
            "text/plain": [
              "array([[0, 0, 0, ..., 0, 0, 0],\n",
              "       [0, 0, 0, ..., 0, 0, 0],\n",
              "       [0, 0, 0, ..., 0, 0, 0],\n",
              "       ...,\n",
              "       [0, 0, 0, ..., 0, 0, 0],\n",
              "       [0, 0, 0, ..., 0, 0, 0],\n",
              "       [0, 0, 0, ..., 0, 0, 0]])"
            ]
          },
          "metadata": {},
          "execution_count": 87
        }
      ]
    },
    {
      "cell_type": "code",
      "source": [
        "x.shape"
      ],
      "metadata": {
        "colab": {
          "base_uri": "https://localhost:8080/"
        },
        "id": "STcLrJiG3gSd",
        "outputId": "21326b10-c063-4295-9932-c8ce1bda6a2e"
      },
      "execution_count": 88,
      "outputs": [
        {
          "output_type": "execute_result",
          "data": {
            "text/plain": [
              "(5572, 250)"
            ]
          },
          "metadata": {},
          "execution_count": 88
        }
      ]
    },
    {
      "cell_type": "code",
      "source": [
        "y =df['Category']\n",
        "y"
      ],
      "metadata": {
        "colab": {
          "base_uri": "https://localhost:8080/"
        },
        "id": "g-69FdhzwWsh",
        "outputId": "92a09067-103a-4bd3-a736-e046b32c9144"
      },
      "execution_count": 89,
      "outputs": [
        {
          "output_type": "execute_result",
          "data": {
            "text/plain": [
              "0        ham\n",
              "1        ham\n",
              "2       spam\n",
              "3        ham\n",
              "4        ham\n",
              "        ... \n",
              "5567    spam\n",
              "5568     ham\n",
              "5569     ham\n",
              "5570     ham\n",
              "5571     ham\n",
              "Name: Category, Length: 5572, dtype: object"
            ]
          },
          "metadata": {},
          "execution_count": 89
        }
      ]
    },
    {
      "cell_type": "code",
      "source": [
        "from sklearn.preprocessing import LabelEncoder\n",
        "le = LabelEncoder()\n",
        "y = le.fit_transform(y)\n",
        "y"
      ],
      "metadata": {
        "colab": {
          "base_uri": "https://localhost:8080/"
        },
        "id": "bPqvpQ4A0I6h",
        "outputId": "43622b14-f8ae-486f-9de7-4e56ddedc0ca"
      },
      "execution_count": 90,
      "outputs": [
        {
          "output_type": "execute_result",
          "data": {
            "text/plain": [
              "array([0, 0, 1, ..., 0, 0, 0])"
            ]
          },
          "metadata": {},
          "execution_count": 90
        }
      ]
    },
    {
      "cell_type": "markdown",
      "source": [
        "Splitting Data For Traning and Testing"
      ],
      "metadata": {
        "id": "nCprYd5w3m6N"
      }
    },
    {
      "cell_type": "code",
      "source": [
        "from sklearn.model_selection import train_test_split"
      ],
      "metadata": {
        "id": "_K0uyuPdwXZP"
      },
      "execution_count": 91,
      "outputs": []
    },
    {
      "cell_type": "code",
      "source": [
        "x_train , x_test ,y_train, y_test = train_test_split(x,y,test_size =0.2 , random_state =0)"
      ],
      "metadata": {
        "id": "H9llVI-SwgcS"
      },
      "execution_count": 92,
      "outputs": []
    },
    {
      "cell_type": "code",
      "source": [
        "x_train.shape"
      ],
      "metadata": {
        "colab": {
          "base_uri": "https://localhost:8080/"
        },
        "id": "U0x4jNxNwvE7",
        "outputId": "25c6aaf5-73ec-48f7-a3eb-452b0a620855"
      },
      "execution_count": 93,
      "outputs": [
        {
          "output_type": "execute_result",
          "data": {
            "text/plain": [
              "(4457, 250)"
            ]
          },
          "metadata": {},
          "execution_count": 93
        }
      ]
    },
    {
      "cell_type": "code",
      "source": [
        "x_test.shape"
      ],
      "metadata": {
        "colab": {
          "base_uri": "https://localhost:8080/"
        },
        "id": "6CLtvJSUww2J",
        "outputId": "c2fb3ec3-5297-4f88-aca6-45af55b6b042"
      },
      "execution_count": 94,
      "outputs": [
        {
          "output_type": "execute_result",
          "data": {
            "text/plain": [
              "(1115, 250)"
            ]
          },
          "metadata": {},
          "execution_count": 94
        }
      ]
    },
    {
      "cell_type": "markdown",
      "source": [
        "**Making Deep Learning Model**"
      ],
      "metadata": {
        "id": "cposYFG33T95"
      }
    },
    {
      "cell_type": "code",
      "source": [
        "import tensorflow.keras as keras\n",
        "from keras.layers import Dense , Flatten , Dropout , SimpleRNN ,LSTM\n",
        "from keras.models import Sequential"
      ],
      "metadata": {
        "id": "JAX4cwyWwztS"
      },
      "execution_count": 95,
      "outputs": []
    },
    {
      "cell_type": "markdown",
      "source": [
        "Making Simple ANN Model"
      ],
      "metadata": {
        "id": "pMH6PpZA4Eu1"
      }
    },
    {
      "cell_type": "code",
      "source": [
        "model = Sequential()"
      ],
      "metadata": {
        "id": "4T9DFvlWzOGI"
      },
      "execution_count": 96,
      "outputs": []
    },
    {
      "cell_type": "code",
      "source": [
        "model.add(Dense(32 , activation ='relu' , input_dim =250))\n",
        "model.add(Dropout(0.2))\n",
        "model.add(Dense(1, activation ='sigmoid'))\n",
        "model.compile(optimizer ='adam' , loss ='binary_crossentropy', metrics =['accuracy'])"
      ],
      "metadata": {
        "id": "LMSSWu87zE_f"
      },
      "execution_count": 97,
      "outputs": []
    },
    {
      "cell_type": "code",
      "source": [
        "model.summary()"
      ],
      "metadata": {
        "colab": {
          "base_uri": "https://localhost:8080/"
        },
        "id": "ORZKJ92qzLQx",
        "outputId": "0a727cf9-61e6-4b17-b1a4-fd9e05479d7a"
      },
      "execution_count": 98,
      "outputs": [
        {
          "output_type": "stream",
          "name": "stdout",
          "text": [
            "Model: \"sequential_11\"\n",
            "_________________________________________________________________\n",
            " Layer (type)                Output Shape              Param #   \n",
            "=================================================================\n",
            " dense_7 (Dense)             (None, 32)                8032      \n",
            "                                                                 \n",
            " dropout_2 (Dropout)         (None, 32)                0         \n",
            "                                                                 \n",
            " dense_8 (Dense)             (None, 1)                 33        \n",
            "                                                                 \n",
            "=================================================================\n",
            "Total params: 8,065\n",
            "Trainable params: 8,065\n",
            "Non-trainable params: 0\n",
            "_________________________________________________________________\n"
          ]
        }
      ]
    },
    {
      "cell_type": "code",
      "source": [
        "model.fit(x_train,y_train , validation_data =(x_test,y_test),epochs =100)"
      ],
      "metadata": {
        "colab": {
          "base_uri": "https://localhost:8080/"
        },
        "id": "fgu9yCqjzSVC",
        "outputId": "3d3f7259-bd3b-4d76-b58d-097efd78e10e"
      },
      "execution_count": 99,
      "outputs": [
        {
          "output_type": "stream",
          "name": "stdout",
          "text": [
            "Epoch 1/100\n",
            "140/140 [==============================] - 2s 5ms/step - loss: 0.4663 - accuracy: 0.8696 - val_loss: 0.2985 - val_accuracy: 0.8888\n",
            "Epoch 2/100\n",
            "140/140 [==============================] - 1s 6ms/step - loss: 0.2143 - accuracy: 0.9421 - val_loss: 0.1509 - val_accuracy: 0.9659\n",
            "Epoch 3/100\n",
            "140/140 [==============================] - 1s 6ms/step - loss: 0.1305 - accuracy: 0.9666 - val_loss: 0.1081 - val_accuracy: 0.9695\n",
            "Epoch 4/100\n",
            "140/140 [==============================] - 1s 6ms/step - loss: 0.1035 - accuracy: 0.9688 - val_loss: 0.0937 - val_accuracy: 0.9731\n",
            "Epoch 5/100\n",
            "140/140 [==============================] - 1s 4ms/step - loss: 0.0918 - accuracy: 0.9724 - val_loss: 0.0875 - val_accuracy: 0.9758\n",
            "Epoch 6/100\n",
            "140/140 [==============================] - 1s 4ms/step - loss: 0.0819 - accuracy: 0.9762 - val_loss: 0.0851 - val_accuracy: 0.9731\n",
            "Epoch 7/100\n",
            "140/140 [==============================] - 1s 4ms/step - loss: 0.0770 - accuracy: 0.9762 - val_loss: 0.0822 - val_accuracy: 0.9776\n",
            "Epoch 8/100\n",
            "140/140 [==============================] - 1s 4ms/step - loss: 0.0730 - accuracy: 0.9762 - val_loss: 0.0816 - val_accuracy: 0.9776\n",
            "Epoch 9/100\n",
            "140/140 [==============================] - 1s 4ms/step - loss: 0.0682 - accuracy: 0.9803 - val_loss: 0.0810 - val_accuracy: 0.9803\n",
            "Epoch 10/100\n",
            "140/140 [==============================] - 1s 4ms/step - loss: 0.0679 - accuracy: 0.9794 - val_loss: 0.0811 - val_accuracy: 0.9794\n",
            "Epoch 11/100\n",
            "140/140 [==============================] - 1s 4ms/step - loss: 0.0629 - accuracy: 0.9803 - val_loss: 0.0815 - val_accuracy: 0.9812\n",
            "Epoch 12/100\n",
            "140/140 [==============================] - 1s 4ms/step - loss: 0.0607 - accuracy: 0.9814 - val_loss: 0.0828 - val_accuracy: 0.9803\n",
            "Epoch 13/100\n",
            "140/140 [==============================] - 1s 4ms/step - loss: 0.0605 - accuracy: 0.9809 - val_loss: 0.0841 - val_accuracy: 0.9803\n",
            "Epoch 14/100\n",
            "140/140 [==============================] - 1s 4ms/step - loss: 0.0597 - accuracy: 0.9821 - val_loss: 0.0844 - val_accuracy: 0.9794\n",
            "Epoch 15/100\n",
            "140/140 [==============================] - 1s 4ms/step - loss: 0.0572 - accuracy: 0.9832 - val_loss: 0.0849 - val_accuracy: 0.9803\n",
            "Epoch 16/100\n",
            "140/140 [==============================] - 1s 4ms/step - loss: 0.0553 - accuracy: 0.9818 - val_loss: 0.0852 - val_accuracy: 0.9821\n",
            "Epoch 17/100\n",
            "140/140 [==============================] - 1s 5ms/step - loss: 0.0544 - accuracy: 0.9838 - val_loss: 0.0868 - val_accuracy: 0.9803\n",
            "Epoch 18/100\n",
            "140/140 [==============================] - 1s 4ms/step - loss: 0.0524 - accuracy: 0.9834 - val_loss: 0.0882 - val_accuracy: 0.9794\n",
            "Epoch 19/100\n",
            "140/140 [==============================] - 1s 4ms/step - loss: 0.0502 - accuracy: 0.9843 - val_loss: 0.0888 - val_accuracy: 0.9803\n",
            "Epoch 20/100\n",
            "140/140 [==============================] - 1s 4ms/step - loss: 0.0499 - accuracy: 0.9836 - val_loss: 0.0898 - val_accuracy: 0.9785\n",
            "Epoch 21/100\n",
            "140/140 [==============================] - 1s 4ms/step - loss: 0.0483 - accuracy: 0.9847 - val_loss: 0.0915 - val_accuracy: 0.9803\n",
            "Epoch 22/100\n",
            "140/140 [==============================] - 1s 6ms/step - loss: 0.0469 - accuracy: 0.9863 - val_loss: 0.0948 - val_accuracy: 0.9794\n",
            "Epoch 23/100\n",
            "140/140 [==============================] - 1s 6ms/step - loss: 0.0467 - accuracy: 0.9847 - val_loss: 0.0954 - val_accuracy: 0.9794\n",
            "Epoch 24/100\n",
            "140/140 [==============================] - 1s 6ms/step - loss: 0.0453 - accuracy: 0.9852 - val_loss: 0.0965 - val_accuracy: 0.9794\n",
            "Epoch 25/100\n",
            "140/140 [==============================] - 1s 5ms/step - loss: 0.0443 - accuracy: 0.9863 - val_loss: 0.0965 - val_accuracy: 0.9785\n",
            "Epoch 26/100\n",
            "140/140 [==============================] - 1s 4ms/step - loss: 0.0452 - accuracy: 0.9861 - val_loss: 0.0979 - val_accuracy: 0.9794\n",
            "Epoch 27/100\n",
            "140/140 [==============================] - 1s 4ms/step - loss: 0.0425 - accuracy: 0.9872 - val_loss: 0.0994 - val_accuracy: 0.9785\n",
            "Epoch 28/100\n",
            "140/140 [==============================] - 1s 4ms/step - loss: 0.0426 - accuracy: 0.9874 - val_loss: 0.1004 - val_accuracy: 0.9794\n",
            "Epoch 29/100\n",
            "140/140 [==============================] - 1s 5ms/step - loss: 0.0422 - accuracy: 0.9870 - val_loss: 0.1013 - val_accuracy: 0.9794\n",
            "Epoch 30/100\n",
            "140/140 [==============================] - 1s 4ms/step - loss: 0.0411 - accuracy: 0.9877 - val_loss: 0.1014 - val_accuracy: 0.9794\n",
            "Epoch 31/100\n",
            "140/140 [==============================] - 1s 4ms/step - loss: 0.0392 - accuracy: 0.9886 - val_loss: 0.1017 - val_accuracy: 0.9812\n",
            "Epoch 32/100\n",
            "140/140 [==============================] - 1s 4ms/step - loss: 0.0384 - accuracy: 0.9883 - val_loss: 0.1044 - val_accuracy: 0.9821\n",
            "Epoch 33/100\n",
            "140/140 [==============================] - 1s 4ms/step - loss: 0.0388 - accuracy: 0.9877 - val_loss: 0.1056 - val_accuracy: 0.9812\n",
            "Epoch 34/100\n",
            "140/140 [==============================] - 1s 4ms/step - loss: 0.0370 - accuracy: 0.9897 - val_loss: 0.1053 - val_accuracy: 0.9812\n",
            "Epoch 35/100\n",
            "140/140 [==============================] - 1s 4ms/step - loss: 0.0384 - accuracy: 0.9879 - val_loss: 0.1072 - val_accuracy: 0.9812\n",
            "Epoch 36/100\n",
            "140/140 [==============================] - 1s 4ms/step - loss: 0.0368 - accuracy: 0.9908 - val_loss: 0.1074 - val_accuracy: 0.9812\n",
            "Epoch 37/100\n",
            "140/140 [==============================] - 1s 4ms/step - loss: 0.0354 - accuracy: 0.9897 - val_loss: 0.1094 - val_accuracy: 0.9812\n",
            "Epoch 38/100\n",
            "140/140 [==============================] - 1s 4ms/step - loss: 0.0354 - accuracy: 0.9892 - val_loss: 0.1109 - val_accuracy: 0.9812\n",
            "Epoch 39/100\n",
            "140/140 [==============================] - 1s 5ms/step - loss: 0.0341 - accuracy: 0.9895 - val_loss: 0.1114 - val_accuracy: 0.9803\n",
            "Epoch 40/100\n",
            "140/140 [==============================] - 1s 4ms/step - loss: 0.0334 - accuracy: 0.9910 - val_loss: 0.1121 - val_accuracy: 0.9812\n",
            "Epoch 41/100\n",
            "140/140 [==============================] - 1s 4ms/step - loss: 0.0339 - accuracy: 0.9901 - val_loss: 0.1111 - val_accuracy: 0.9821\n",
            "Epoch 42/100\n",
            "140/140 [==============================] - 1s 6ms/step - loss: 0.0336 - accuracy: 0.9899 - val_loss: 0.1121 - val_accuracy: 0.9821\n",
            "Epoch 43/100\n",
            "140/140 [==============================] - 1s 7ms/step - loss: 0.0321 - accuracy: 0.9912 - val_loss: 0.1116 - val_accuracy: 0.9803\n",
            "Epoch 44/100\n",
            "140/140 [==============================] - 1s 6ms/step - loss: 0.0324 - accuracy: 0.9906 - val_loss: 0.1130 - val_accuracy: 0.9812\n",
            "Epoch 45/100\n",
            "140/140 [==============================] - 1s 5ms/step - loss: 0.0312 - accuracy: 0.9910 - val_loss: 0.1140 - val_accuracy: 0.9812\n",
            "Epoch 46/100\n",
            "140/140 [==============================] - 1s 4ms/step - loss: 0.0302 - accuracy: 0.9910 - val_loss: 0.1147 - val_accuracy: 0.9812\n",
            "Epoch 47/100\n",
            "140/140 [==============================] - 1s 5ms/step - loss: 0.0303 - accuracy: 0.9915 - val_loss: 0.1162 - val_accuracy: 0.9803\n",
            "Epoch 48/100\n",
            "140/140 [==============================] - 1s 4ms/step - loss: 0.0300 - accuracy: 0.9921 - val_loss: 0.1181 - val_accuracy: 0.9803\n",
            "Epoch 49/100\n",
            "140/140 [==============================] - 1s 4ms/step - loss: 0.0291 - accuracy: 0.9919 - val_loss: 0.1204 - val_accuracy: 0.9812\n",
            "Epoch 50/100\n",
            "140/140 [==============================] - 1s 4ms/step - loss: 0.0286 - accuracy: 0.9924 - val_loss: 0.1179 - val_accuracy: 0.9812\n",
            "Epoch 51/100\n",
            "140/140 [==============================] - 1s 4ms/step - loss: 0.0287 - accuracy: 0.9926 - val_loss: 0.1189 - val_accuracy: 0.9812\n",
            "Epoch 52/100\n",
            "140/140 [==============================] - 1s 4ms/step - loss: 0.0270 - accuracy: 0.9933 - val_loss: 0.1203 - val_accuracy: 0.9812\n",
            "Epoch 53/100\n",
            "140/140 [==============================] - 1s 4ms/step - loss: 0.0279 - accuracy: 0.9928 - val_loss: 0.1208 - val_accuracy: 0.9794\n",
            "Epoch 54/100\n",
            "140/140 [==============================] - 1s 4ms/step - loss: 0.0273 - accuracy: 0.9937 - val_loss: 0.1220 - val_accuracy: 0.9803\n",
            "Epoch 55/100\n",
            "140/140 [==============================] - 1s 4ms/step - loss: 0.0272 - accuracy: 0.9924 - val_loss: 0.1238 - val_accuracy: 0.9803\n",
            "Epoch 56/100\n",
            "140/140 [==============================] - 1s 4ms/step - loss: 0.0262 - accuracy: 0.9926 - val_loss: 0.1230 - val_accuracy: 0.9803\n",
            "Epoch 57/100\n",
            "140/140 [==============================] - 1s 4ms/step - loss: 0.0253 - accuracy: 0.9937 - val_loss: 0.1232 - val_accuracy: 0.9812\n",
            "Epoch 58/100\n",
            "140/140 [==============================] - 1s 4ms/step - loss: 0.0251 - accuracy: 0.9935 - val_loss: 0.1250 - val_accuracy: 0.9803\n",
            "Epoch 59/100\n",
            "140/140 [==============================] - 1s 4ms/step - loss: 0.0247 - accuracy: 0.9935 - val_loss: 0.1290 - val_accuracy: 0.9803\n",
            "Epoch 60/100\n",
            "140/140 [==============================] - 1s 4ms/step - loss: 0.0258 - accuracy: 0.9926 - val_loss: 0.1281 - val_accuracy: 0.9803\n",
            "Epoch 61/100\n",
            "140/140 [==============================] - 1s 5ms/step - loss: 0.0238 - accuracy: 0.9937 - val_loss: 0.1315 - val_accuracy: 0.9803\n",
            "Epoch 62/100\n",
            "140/140 [==============================] - 1s 6ms/step - loss: 0.0235 - accuracy: 0.9939 - val_loss: 0.1302 - val_accuracy: 0.9803\n",
            "Epoch 63/100\n",
            "140/140 [==============================] - 1s 6ms/step - loss: 0.0239 - accuracy: 0.9942 - val_loss: 0.1290 - val_accuracy: 0.9812\n",
            "Epoch 64/100\n",
            "140/140 [==============================] - 1s 5ms/step - loss: 0.0229 - accuracy: 0.9944 - val_loss: 0.1293 - val_accuracy: 0.9794\n",
            "Epoch 65/100\n",
            "140/140 [==============================] - 1s 4ms/step - loss: 0.0229 - accuracy: 0.9946 - val_loss: 0.1297 - val_accuracy: 0.9803\n",
            "Epoch 66/100\n",
            "140/140 [==============================] - 1s 4ms/step - loss: 0.0226 - accuracy: 0.9939 - val_loss: 0.1317 - val_accuracy: 0.9794\n",
            "Epoch 67/100\n",
            "140/140 [==============================] - 1s 4ms/step - loss: 0.0234 - accuracy: 0.9939 - val_loss: 0.1311 - val_accuracy: 0.9776\n",
            "Epoch 68/100\n",
            "140/140 [==============================] - 1s 5ms/step - loss: 0.0221 - accuracy: 0.9948 - val_loss: 0.1307 - val_accuracy: 0.9803\n",
            "Epoch 69/100\n",
            "140/140 [==============================] - 1s 4ms/step - loss: 0.0215 - accuracy: 0.9953 - val_loss: 0.1328 - val_accuracy: 0.9776\n",
            "Epoch 70/100\n",
            "140/140 [==============================] - 1s 5ms/step - loss: 0.0223 - accuracy: 0.9935 - val_loss: 0.1331 - val_accuracy: 0.9785\n",
            "Epoch 71/100\n",
            "140/140 [==============================] - 1s 4ms/step - loss: 0.0214 - accuracy: 0.9953 - val_loss: 0.1338 - val_accuracy: 0.9785\n",
            "Epoch 72/100\n",
            "140/140 [==============================] - 1s 4ms/step - loss: 0.0205 - accuracy: 0.9944 - val_loss: 0.1353 - val_accuracy: 0.9785\n",
            "Epoch 73/100\n",
            "140/140 [==============================] - 1s 5ms/step - loss: 0.0214 - accuracy: 0.9948 - val_loss: 0.1363 - val_accuracy: 0.9785\n",
            "Epoch 74/100\n",
            "140/140 [==============================] - 1s 5ms/step - loss: 0.0201 - accuracy: 0.9951 - val_loss: 0.1372 - val_accuracy: 0.9785\n",
            "Epoch 75/100\n",
            "140/140 [==============================] - 1s 4ms/step - loss: 0.0211 - accuracy: 0.9946 - val_loss: 0.1374 - val_accuracy: 0.9785\n",
            "Epoch 76/100\n",
            "140/140 [==============================] - 1s 5ms/step - loss: 0.0208 - accuracy: 0.9955 - val_loss: 0.1376 - val_accuracy: 0.9785\n",
            "Epoch 77/100\n",
            "140/140 [==============================] - 1s 4ms/step - loss: 0.0206 - accuracy: 0.9948 - val_loss: 0.1387 - val_accuracy: 0.9785\n",
            "Epoch 78/100\n",
            "140/140 [==============================] - 1s 4ms/step - loss: 0.0204 - accuracy: 0.9946 - val_loss: 0.1391 - val_accuracy: 0.9785\n",
            "Epoch 79/100\n",
            "140/140 [==============================] - 1s 4ms/step - loss: 0.0191 - accuracy: 0.9953 - val_loss: 0.1383 - val_accuracy: 0.9785\n",
            "Epoch 80/100\n",
            "140/140 [==============================] - 1s 4ms/step - loss: 0.0191 - accuracy: 0.9951 - val_loss: 0.1414 - val_accuracy: 0.9785\n",
            "Epoch 81/100\n",
            "140/140 [==============================] - 1s 6ms/step - loss: 0.0199 - accuracy: 0.9951 - val_loss: 0.1437 - val_accuracy: 0.9776\n",
            "Epoch 82/100\n",
            "140/140 [==============================] - 1s 6ms/step - loss: 0.0181 - accuracy: 0.9951 - val_loss: 0.1462 - val_accuracy: 0.9785\n",
            "Epoch 83/100\n",
            "140/140 [==============================] - 1s 6ms/step - loss: 0.0191 - accuracy: 0.9948 - val_loss: 0.1454 - val_accuracy: 0.9776\n",
            "Epoch 84/100\n",
            "140/140 [==============================] - 1s 4ms/step - loss: 0.0189 - accuracy: 0.9948 - val_loss: 0.1464 - val_accuracy: 0.9776\n",
            "Epoch 85/100\n",
            "140/140 [==============================] - 1s 4ms/step - loss: 0.0191 - accuracy: 0.9946 - val_loss: 0.1474 - val_accuracy: 0.9785\n",
            "Epoch 86/100\n",
            "140/140 [==============================] - 1s 5ms/step - loss: 0.0199 - accuracy: 0.9944 - val_loss: 0.1476 - val_accuracy: 0.9785\n",
            "Epoch 87/100\n",
            "140/140 [==============================] - 1s 4ms/step - loss: 0.0180 - accuracy: 0.9951 - val_loss: 0.1479 - val_accuracy: 0.9785\n",
            "Epoch 88/100\n",
            "140/140 [==============================] - 1s 4ms/step - loss: 0.0180 - accuracy: 0.9957 - val_loss: 0.1522 - val_accuracy: 0.9785\n",
            "Epoch 89/100\n",
            "140/140 [==============================] - 1s 4ms/step - loss: 0.0181 - accuracy: 0.9948 - val_loss: 0.1516 - val_accuracy: 0.9785\n",
            "Epoch 90/100\n",
            "140/140 [==============================] - 1s 4ms/step - loss: 0.0173 - accuracy: 0.9957 - val_loss: 0.1547 - val_accuracy: 0.9785\n",
            "Epoch 91/100\n",
            "140/140 [==============================] - 1s 4ms/step - loss: 0.0177 - accuracy: 0.9953 - val_loss: 0.1538 - val_accuracy: 0.9785\n",
            "Epoch 92/100\n",
            "140/140 [==============================] - 1s 4ms/step - loss: 0.0180 - accuracy: 0.9946 - val_loss: 0.1564 - val_accuracy: 0.9785\n",
            "Epoch 93/100\n",
            "140/140 [==============================] - 1s 5ms/step - loss: 0.0172 - accuracy: 0.9948 - val_loss: 0.1554 - val_accuracy: 0.9785\n",
            "Epoch 94/100\n",
            "140/140 [==============================] - 1s 5ms/step - loss: 0.0183 - accuracy: 0.9951 - val_loss: 0.1598 - val_accuracy: 0.9785\n",
            "Epoch 95/100\n",
            "140/140 [==============================] - 1s 4ms/step - loss: 0.0176 - accuracy: 0.9948 - val_loss: 0.1600 - val_accuracy: 0.9785\n",
            "Epoch 96/100\n",
            "140/140 [==============================] - 1s 4ms/step - loss: 0.0166 - accuracy: 0.9955 - val_loss: 0.1605 - val_accuracy: 0.9785\n",
            "Epoch 97/100\n",
            "140/140 [==============================] - 1s 4ms/step - loss: 0.0174 - accuracy: 0.9955 - val_loss: 0.1600 - val_accuracy: 0.9785\n",
            "Epoch 98/100\n",
            "140/140 [==============================] - 1s 4ms/step - loss: 0.0167 - accuracy: 0.9951 - val_loss: 0.1599 - val_accuracy: 0.9785\n",
            "Epoch 99/100\n",
            "140/140 [==============================] - 1s 4ms/step - loss: 0.0163 - accuracy: 0.9951 - val_loss: 0.1639 - val_accuracy: 0.9785\n",
            "Epoch 100/100\n",
            "140/140 [==============================] - 1s 4ms/step - loss: 0.0169 - accuracy: 0.9957 - val_loss: 0.1629 - val_accuracy: 0.9785\n"
          ]
        },
        {
          "output_type": "execute_result",
          "data": {
            "text/plain": [
              "<keras.callbacks.History at 0x7f5a1045c9a0>"
            ]
          },
          "metadata": {},
          "execution_count": 99
        }
      ]
    },
    {
      "cell_type": "code",
      "source": [
        "x_train"
      ],
      "metadata": {
        "colab": {
          "base_uri": "https://localhost:8080/"
        },
        "id": "P3dDoP0G54e-",
        "outputId": "ded7ea82-263c-45a7-f364-1788fbdf8e4a"
      },
      "execution_count": 100,
      "outputs": [
        {
          "output_type": "execute_result",
          "data": {
            "text/plain": [
              "array([[0, 0, 0, ..., 0, 0, 0],\n",
              "       [0, 0, 0, ..., 0, 0, 0],\n",
              "       [0, 0, 0, ..., 0, 0, 0],\n",
              "       ...,\n",
              "       [0, 0, 0, ..., 0, 0, 0],\n",
              "       [0, 0, 0, ..., 0, 0, 0],\n",
              "       [0, 0, 0, ..., 0, 0, 0]])"
            ]
          },
          "metadata": {},
          "execution_count": 100
        }
      ]
    },
    {
      "cell_type": "markdown",
      "source": [
        "Making SimpleRNN Model"
      ],
      "metadata": {
        "id": "J7xjJjxT7zVI"
      }
    },
    {
      "cell_type": "code",
      "source": [
        "model_srnn = Sequential()\n",
        "model_srnn.add(SimpleRNN(32 , activation ='relu' , input_shape =(250,1) , return_sequences =False))\n",
        "model_srnn.add(Dense(1, activation ='sigmoid'))\n",
        "model_srnn.compile(optimizer ='adam' , loss ='binary_crossentropy', metrics =['accuracy'])"
      ],
      "metadata": {
        "id": "3NeG7xgS4cha"
      },
      "execution_count": 101,
      "outputs": []
    },
    {
      "cell_type": "code",
      "source": [
        "model_srnn.fit(x_train,y_train,validation_data=(x_test,y_test) , epochs =5)"
      ],
      "metadata": {
        "colab": {
          "base_uri": "https://localhost:8080/"
        },
        "id": "qNDbLXZ17cj_",
        "outputId": "184edfad-4e88-444b-fd33-b86165fca573"
      },
      "execution_count": 104,
      "outputs": [
        {
          "output_type": "stream",
          "name": "stdout",
          "text": [
            "Epoch 1/5\n",
            "140/140 [==============================] - 25s 179ms/step - loss: 0.3925 - accuracy: 0.8683 - val_loss: 0.4109 - val_accuracy: 0.8565\n",
            "Epoch 2/5\n",
            "140/140 [==============================] - 24s 173ms/step - loss: 0.3871 - accuracy: 0.8683 - val_loss: 0.4159 - val_accuracy: 0.8565\n",
            "Epoch 3/5\n",
            "140/140 [==============================] - 24s 172ms/step - loss: 0.3926 - accuracy: 0.8683 - val_loss: 0.4107 - val_accuracy: 0.8565\n",
            "Epoch 4/5\n",
            "140/140 [==============================] - 24s 169ms/step - loss: 0.3907 - accuracy: 0.8683 - val_loss: 0.4110 - val_accuracy: 0.8565\n",
            "Epoch 5/5\n",
            "140/140 [==============================] - 23s 164ms/step - loss: 0.3909 - accuracy: 0.8683 - val_loss: 0.4133 - val_accuracy: 0.8565\n"
          ]
        },
        {
          "output_type": "execute_result",
          "data": {
            "text/plain": [
              "<keras.callbacks.History at 0x7f5a086938b0>"
            ]
          },
          "metadata": {},
          "execution_count": 104
        }
      ]
    },
    {
      "cell_type": "markdown",
      "source": [
        "**Making Machine Learning Model**"
      ],
      "metadata": {
        "id": "lp1zihCJ2-Z4"
      }
    },
    {
      "cell_type": "code",
      "source": [
        "from sklearn.naive_bayes import MultinomialNB\n",
        "nb = MultinomialNB()"
      ],
      "metadata": {
        "id": "N2LPdOm-zfUw"
      },
      "execution_count": 105,
      "outputs": []
    },
    {
      "cell_type": "code",
      "source": [
        "model_nb = nb.fit(x_train,y_train)"
      ],
      "metadata": {
        "id": "CL_aDbRa1pPU"
      },
      "execution_count": 106,
      "outputs": []
    },
    {
      "cell_type": "code",
      "source": [
        "y_pred = model_nb.predict(x_test)"
      ],
      "metadata": {
        "id": "pxlRm_iC2Ikg"
      },
      "execution_count": 109,
      "outputs": []
    },
    {
      "cell_type": "code",
      "source": [
        "y_pred"
      ],
      "metadata": {
        "colab": {
          "base_uri": "https://localhost:8080/"
        },
        "id": "sbqrTD0Q2Otq",
        "outputId": "7bb661ed-25f6-4467-a113-fdd0e7067143"
      },
      "execution_count": 110,
      "outputs": [
        {
          "output_type": "execute_result",
          "data": {
            "text/plain": [
              "array([0, 1, 0, ..., 0, 0, 0])"
            ]
          },
          "metadata": {},
          "execution_count": 110
        }
      ]
    },
    {
      "cell_type": "code",
      "source": [
        "from sklearn.metrics import classification_report"
      ],
      "metadata": {
        "id": "05gfMtSV15xT"
      },
      "execution_count": 111,
      "outputs": []
    },
    {
      "cell_type": "code",
      "source": [
        "cr =classification_report(y_test , y_pred)"
      ],
      "metadata": {
        "id": "rqgNq74S2Flc"
      },
      "execution_count": 112,
      "outputs": []
    },
    {
      "cell_type": "code",
      "source": [
        "print(cr)"
      ],
      "metadata": {
        "colab": {
          "base_uri": "https://localhost:8080/"
        },
        "id": "Qa5OMCx02Wdl",
        "outputId": "c4c2885c-7bb6-4273-a2b5-57abcc769acc"
      },
      "execution_count": 113,
      "outputs": [
        {
          "output_type": "stream",
          "name": "stdout",
          "text": [
            "              precision    recall  f1-score   support\n",
            "\n",
            "           0       0.98      0.99      0.98       955\n",
            "           1       0.92      0.89      0.90       160\n",
            "\n",
            "    accuracy                           0.97      1115\n",
            "   macro avg       0.95      0.94      0.94      1115\n",
            "weighted avg       0.97      0.97      0.97      1115\n",
            "\n"
          ]
        }
      ]
    },
    {
      "cell_type": "code",
      "source": [
        "from sklearn.metrics import accuracy_score"
      ],
      "metadata": {
        "id": "fiwOkIs12bYz"
      },
      "execution_count": 114,
      "outputs": []
    },
    {
      "cell_type": "code",
      "source": [
        "accuracy_score(y_pred , y_test)"
      ],
      "metadata": {
        "colab": {
          "base_uri": "https://localhost:8080/"
        },
        "id": "QhfGGiyy2sLZ",
        "outputId": "1a8e65af-368e-4c58-8e9e-c1d21eaf3df0"
      },
      "execution_count": 115,
      "outputs": [
        {
          "output_type": "execute_result",
          "data": {
            "text/plain": [
              "0.9721973094170404"
            ]
          },
          "metadata": {},
          "execution_count": 115
        }
      ]
    },
    {
      "cell_type": "code",
      "source": [
        "from sklearn.metrics import confusion_matrix"
      ],
      "metadata": {
        "id": "nb-U0587245x"
      },
      "execution_count": 116,
      "outputs": []
    },
    {
      "cell_type": "code",
      "source": [
        "confusion_matrix(y_test , y_pred)"
      ],
      "metadata": {
        "colab": {
          "base_uri": "https://localhost:8080/"
        },
        "id": "1jJ-N6bw4tgw",
        "outputId": "7284f46b-1e1b-475e-aeee-a17741d05b4e"
      },
      "execution_count": 117,
      "outputs": [
        {
          "output_type": "execute_result",
          "data": {
            "text/plain": [
              "array([[942,  13],\n",
              "       [ 18, 142]])"
            ]
          },
          "metadata": {},
          "execution_count": 117
        }
      ]
    },
    {
      "cell_type": "code",
      "source": [
        "df.shape"
      ],
      "metadata": {
        "colab": {
          "base_uri": "https://localhost:8080/"
        },
        "id": "sAwo6LdK4-KX",
        "outputId": "15d9f143-12f1-43fc-e3d1-758ad5e343ff"
      },
      "execution_count": 118,
      "outputs": [
        {
          "output_type": "execute_result",
          "data": {
            "text/plain": [
              "(5572, 2)"
            ]
          },
          "metadata": {},
          "execution_count": 118
        }
      ]
    },
    {
      "cell_type": "markdown",
      "source": [
        "Importing Pickle file of all 3 model"
      ],
      "metadata": {
        "id": "Xh0beNUg_mXN"
      }
    },
    {
      "cell_type": "code",
      "source": [
        "import pickle"
      ],
      "metadata": {
        "id": "kV86Yq6G_SwK"
      },
      "execution_count": 119,
      "outputs": []
    },
    {
      "cell_type": "code",
      "source": [
        "with open('model.pkl','wb') as file:\n",
        "  pickle.dump(model,file)"
      ],
      "metadata": {
        "id": "0vOefidHALqw"
      },
      "execution_count": 120,
      "outputs": []
    },
    {
      "cell_type": "code",
      "source": [
        "with open('model_srnn.pkl','wb') as file:\n",
        "  pickle.dump(model_srnn,file)\n",
        "with open('model_nb.pkl','wb') as file:\n",
        "  pickle.dump(model_nb,file)"
      ],
      "metadata": {
        "id": "PBSEcSk1AiBY"
      },
      "execution_count": 122,
      "outputs": []
    },
    {
      "cell_type": "code",
      "source": [],
      "metadata": {
        "id": "ll-8Fng2CIuO"
      },
      "execution_count": null,
      "outputs": []
    }
  ]
}